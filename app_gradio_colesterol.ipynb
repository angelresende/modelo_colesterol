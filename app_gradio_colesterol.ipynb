{
 "cells": [
  {
   "cell_type": "code",
   "execution_count": 7,
   "metadata": {},
   "outputs": [],
   "source": [
    "import gradio as gr\n",
    "import joblib\n",
    "import pandas as pd"
   ]
  },
  {
   "cell_type": "code",
   "execution_count": 8,
   "metadata": {},
   "outputs": [],
   "source": [
    "modelo = joblib.load('./modelo_colesterol.pkl')"
   ]
  },
  {
   "cell_type": "code",
   "execution_count": 11,
   "metadata": {},
   "outputs": [],
   "source": [
    "def predict(grupo_sanguineo, fumante, nivel_atividade_fisica, idade, peso, altura):\n",
    "  predicao_individual = {\n",
    "  'grupo_sanguineo': grupo_sanguineo,\n",
    "  'fumante': fumante,\n",
    "  'nivel_atividade_fisica': nivel_atividade_fisica,\n",
    "  'idade': idade,\n",
    "  'peso': peso,\n",
    "  'altura': altura,\n",
    "  }\n",
    "  predict_df = pd.DataFrame(predicao_individual, index=[1])\n",
    "  colesteol = modelo.predict(predict_df)\n",
    "  return colesteol.reshape(-1)"
   ]
  },
  {
   "cell_type": "code",
   "execution_count": 12,
   "metadata": {},
   "outputs": [],
   "source": [
    "demo = gr.Interface(\n",
    "  fn=predict,\n",
    "  inputs=[\n",
    "    gr.Radio(['0','A','B','AB']),\n",
    "    'checkbox',\n",
    "    gr.Radio(['Baixo', 'Moderado', 'Alto']),\n",
    "    gr.Slider(20, 80, step=1),\n",
    "    gr.Slider(40, 160, step=0.1),\n",
    "    gr.Slider(150, 200, step=1)\n",
    "  ],\n",
    "  outputs=['number']\n",
    ")\n"
   ]
  },
  {
   "cell_type": "code",
   "execution_count": 13,
   "metadata": {},
   "outputs": [
    {
     "name": "stdout",
     "output_type": "stream",
     "text": [
      "Running on local URL:  http://127.0.0.1:7861\n",
      "\n",
      "To create a public link, set `share=True` in `launch()`.\n"
     ]
    },
    {
     "data": {
      "text/html": [
       "<div><iframe src=\"http://127.0.0.1:7861/\" width=\"100%\" height=\"500\" allow=\"autoplay; camera; microphone; clipboard-read; clipboard-write;\" frameborder=\"0\" allowfullscreen></iframe></div>"
      ],
      "text/plain": [
       "<IPython.core.display.HTML object>"
      ]
     },
     "metadata": {},
     "output_type": "display_data"
    },
    {
     "data": {
      "text/plain": []
     },
     "execution_count": 13,
     "metadata": {},
     "output_type": "execute_result"
    },
    {
     "name": "stderr",
     "output_type": "stream",
     "text": [
      "ERROR:    Exception in ASGI application\n",
      "Traceback (most recent call last):\n",
      "  File \"/home/angelresende/.local/share/virtualenvs/modelo_colesterol-vnFVt-qo/lib/python3.10/site-packages/starlette/responses.py\", line 265, in __call__\n",
      "    await wrap(partial(self.listen_for_disconnect, receive))\n",
      "  File \"/home/angelresende/.local/share/virtualenvs/modelo_colesterol-vnFVt-qo/lib/python3.10/site-packages/starlette/responses.py\", line 261, in wrap\n",
      "    await func()\n",
      "  File \"/home/angelresende/.local/share/virtualenvs/modelo_colesterol-vnFVt-qo/lib/python3.10/site-packages/starlette/responses.py\", line 238, in listen_for_disconnect\n",
      "    message = await receive()\n",
      "  File \"/home/angelresende/.local/share/virtualenvs/modelo_colesterol-vnFVt-qo/lib/python3.10/site-packages/uvicorn/protocols/http/h11_impl.py\", line 535, in receive\n",
      "    await self.message_event.wait()\n",
      "  File \"/usr/lib/python3.10/asyncio/locks.py\", line 214, in wait\n",
      "    await fut\n",
      "asyncio.exceptions.CancelledError: Cancelled by cancel scope 7f34246ea5c0\n",
      "\n",
      "During handling of the above exception, another exception occurred:\n",
      "\n",
      "  + Exception Group Traceback (most recent call last):\n",
      "  |   File \"/home/angelresende/.local/share/virtualenvs/modelo_colesterol-vnFVt-qo/lib/python3.10/site-packages/uvicorn/protocols/http/h11_impl.py\", line 407, in run_asgi\n",
      "  |     result = await app(  # type: ignore[func-returns-value]\n",
      "  |   File \"/home/angelresende/.local/share/virtualenvs/modelo_colesterol-vnFVt-qo/lib/python3.10/site-packages/uvicorn/middleware/proxy_headers.py\", line 69, in __call__\n",
      "  |     return await self.app(scope, receive, send)\n",
      "  |   File \"/home/angelresende/.local/share/virtualenvs/modelo_colesterol-vnFVt-qo/lib/python3.10/site-packages/fastapi/applications.py\", line 1054, in __call__\n",
      "  |     await super().__call__(scope, receive, send)\n",
      "  |   File \"/home/angelresende/.local/share/virtualenvs/modelo_colesterol-vnFVt-qo/lib/python3.10/site-packages/starlette/applications.py\", line 123, in __call__\n",
      "  |     await self.middleware_stack(scope, receive, send)\n",
      "  |   File \"/home/angelresende/.local/share/virtualenvs/modelo_colesterol-vnFVt-qo/lib/python3.10/site-packages/starlette/middleware/errors.py\", line 186, in __call__\n",
      "  |     raise exc\n",
      "  |   File \"/home/angelresende/.local/share/virtualenvs/modelo_colesterol-vnFVt-qo/lib/python3.10/site-packages/starlette/middleware/errors.py\", line 164, in __call__\n",
      "  |     await self.app(scope, receive, _send)\n",
      "  |   File \"/home/angelresende/.local/share/virtualenvs/modelo_colesterol-vnFVt-qo/lib/python3.10/site-packages/gradio/route_utils.py\", line 707, in __call__\n",
      "  |     await self.app(scope, receive, send)\n",
      "  |   File \"/home/angelresende/.local/share/virtualenvs/modelo_colesterol-vnFVt-qo/lib/python3.10/site-packages/starlette/middleware/exceptions.py\", line 65, in __call__\n",
      "  |     await wrap_app_handling_exceptions(self.app, conn)(scope, receive, send)\n",
      "  |   File \"/home/angelresende/.local/share/virtualenvs/modelo_colesterol-vnFVt-qo/lib/python3.10/site-packages/starlette/_exception_handler.py\", line 64, in wrapped_app\n",
      "  |     raise exc\n",
      "  |   File \"/home/angelresende/.local/share/virtualenvs/modelo_colesterol-vnFVt-qo/lib/python3.10/site-packages/starlette/_exception_handler.py\", line 53, in wrapped_app\n",
      "  |     await app(scope, receive, sender)\n",
      "  |   File \"/home/angelresende/.local/share/virtualenvs/modelo_colesterol-vnFVt-qo/lib/python3.10/site-packages/starlette/routing.py\", line 756, in __call__\n",
      "  |     await self.middleware_stack(scope, receive, send)\n",
      "  |   File \"/home/angelresende/.local/share/virtualenvs/modelo_colesterol-vnFVt-qo/lib/python3.10/site-packages/starlette/routing.py\", line 776, in app\n",
      "  |     await route.handle(scope, receive, send)\n",
      "  |   File \"/home/angelresende/.local/share/virtualenvs/modelo_colesterol-vnFVt-qo/lib/python3.10/site-packages/starlette/routing.py\", line 297, in handle\n",
      "  |     await self.app(scope, receive, send)\n",
      "  |   File \"/home/angelresende/.local/share/virtualenvs/modelo_colesterol-vnFVt-qo/lib/python3.10/site-packages/starlette/routing.py\", line 77, in app\n",
      "  |     await wrap_app_handling_exceptions(app, request)(scope, receive, send)\n",
      "  |   File \"/home/angelresende/.local/share/virtualenvs/modelo_colesterol-vnFVt-qo/lib/python3.10/site-packages/starlette/_exception_handler.py\", line 64, in wrapped_app\n",
      "  |     raise exc\n",
      "  |   File \"/home/angelresende/.local/share/virtualenvs/modelo_colesterol-vnFVt-qo/lib/python3.10/site-packages/starlette/_exception_handler.py\", line 53, in wrapped_app\n",
      "  |     await app(scope, receive, sender)\n",
      "  |   File \"/home/angelresende/.local/share/virtualenvs/modelo_colesterol-vnFVt-qo/lib/python3.10/site-packages/starlette/routing.py\", line 75, in app\n",
      "  |     await response(scope, receive, send)\n",
      "  |   File \"/home/angelresende/.local/share/virtualenvs/modelo_colesterol-vnFVt-qo/lib/python3.10/site-packages/starlette/responses.py\", line 258, in __call__\n",
      "  |     async with anyio.create_task_group() as task_group:\n",
      "  |   File \"/home/angelresende/.local/share/virtualenvs/modelo_colesterol-vnFVt-qo/lib/python3.10/site-packages/anyio/_backends/_asyncio.py\", line 678, in __aexit__\n",
      "  |     raise BaseExceptionGroup(\n",
      "  | exceptiongroup.ExceptionGroup: unhandled errors in a TaskGroup (1 sub-exception)\n",
      "  +-+---------------- 1 ----------------\n",
      "    | Traceback (most recent call last):\n",
      "    |   File \"/home/angelresende/.local/share/virtualenvs/modelo_colesterol-vnFVt-qo/lib/python3.10/site-packages/starlette/responses.py\", line 261, in wrap\n",
      "    |     await func()\n",
      "    |   File \"/home/angelresende/.local/share/virtualenvs/modelo_colesterol-vnFVt-qo/lib/python3.10/site-packages/starlette/responses.py\", line 250, in stream_response\n",
      "    |     async for chunk in self.body_iterator:\n",
      "    |   File \"/home/angelresende/.local/share/virtualenvs/modelo_colesterol-vnFVt-qo/lib/python3.10/site-packages/gradio/routes.py\", line 896, in sse_stream\n",
      "    |     raise e\n",
      "    |   File \"/home/angelresende/.local/share/virtualenvs/modelo_colesterol-vnFVt-qo/lib/python3.10/site-packages/gradio/routes.py\", line 860, in sse_stream\n",
      "    |     response = process_msg(message)\n",
      "    |   File \"/home/angelresende/.local/share/virtualenvs/modelo_colesterol-vnFVt-qo/lib/python3.10/site-packages/gradio/routes.py\", line 808, in process_msg\n",
      "    |     return f\"data: {orjson.dumps(message.model_dump()).decode('utf-8')}\\n\\n\"\n",
      "    | TypeError: Type is not JSON serializable: numpy.ndarray\n",
      "    +------------------------------------\n",
      "ERROR:    Exception in ASGI application\n",
      "Traceback (most recent call last):\n",
      "  File \"/home/angelresende/.local/share/virtualenvs/modelo_colesterol-vnFVt-qo/lib/python3.10/site-packages/starlette/responses.py\", line 265, in __call__\n",
      "    await wrap(partial(self.listen_for_disconnect, receive))\n",
      "  File \"/home/angelresende/.local/share/virtualenvs/modelo_colesterol-vnFVt-qo/lib/python3.10/site-packages/starlette/responses.py\", line 261, in wrap\n",
      "    await func()\n",
      "  File \"/home/angelresende/.local/share/virtualenvs/modelo_colesterol-vnFVt-qo/lib/python3.10/site-packages/starlette/responses.py\", line 238, in listen_for_disconnect\n",
      "    message = await receive()\n",
      "  File \"/home/angelresende/.local/share/virtualenvs/modelo_colesterol-vnFVt-qo/lib/python3.10/site-packages/uvicorn/protocols/http/h11_impl.py\", line 535, in receive\n",
      "    await self.message_event.wait()\n",
      "  File \"/usr/lib/python3.10/asyncio/locks.py\", line 214, in wait\n",
      "    await fut\n",
      "asyncio.exceptions.CancelledError: Cancelled by cancel scope 7f3424700040\n",
      "\n",
      "During handling of the above exception, another exception occurred:\n",
      "\n",
      "  + Exception Group Traceback (most recent call last):\n",
      "  |   File \"/home/angelresende/.local/share/virtualenvs/modelo_colesterol-vnFVt-qo/lib/python3.10/site-packages/uvicorn/protocols/http/h11_impl.py\", line 407, in run_asgi\n",
      "  |     result = await app(  # type: ignore[func-returns-value]\n",
      "  |   File \"/home/angelresende/.local/share/virtualenvs/modelo_colesterol-vnFVt-qo/lib/python3.10/site-packages/uvicorn/middleware/proxy_headers.py\", line 69, in __call__\n",
      "  |     return await self.app(scope, receive, send)\n",
      "  |   File \"/home/angelresende/.local/share/virtualenvs/modelo_colesterol-vnFVt-qo/lib/python3.10/site-packages/fastapi/applications.py\", line 1054, in __call__\n",
      "  |     await super().__call__(scope, receive, send)\n",
      "  |   File \"/home/angelresende/.local/share/virtualenvs/modelo_colesterol-vnFVt-qo/lib/python3.10/site-packages/starlette/applications.py\", line 123, in __call__\n",
      "  |     await self.middleware_stack(scope, receive, send)\n",
      "  |   File \"/home/angelresende/.local/share/virtualenvs/modelo_colesterol-vnFVt-qo/lib/python3.10/site-packages/starlette/middleware/errors.py\", line 186, in __call__\n",
      "  |     raise exc\n",
      "  |   File \"/home/angelresende/.local/share/virtualenvs/modelo_colesterol-vnFVt-qo/lib/python3.10/site-packages/starlette/middleware/errors.py\", line 164, in __call__\n",
      "  |     await self.app(scope, receive, _send)\n",
      "  |   File \"/home/angelresende/.local/share/virtualenvs/modelo_colesterol-vnFVt-qo/lib/python3.10/site-packages/gradio/route_utils.py\", line 707, in __call__\n",
      "  |     await self.app(scope, receive, send)\n",
      "  |   File \"/home/angelresende/.local/share/virtualenvs/modelo_colesterol-vnFVt-qo/lib/python3.10/site-packages/starlette/middleware/exceptions.py\", line 65, in __call__\n",
      "  |     await wrap_app_handling_exceptions(self.app, conn)(scope, receive, send)\n",
      "  |   File \"/home/angelresende/.local/share/virtualenvs/modelo_colesterol-vnFVt-qo/lib/python3.10/site-packages/starlette/_exception_handler.py\", line 64, in wrapped_app\n",
      "  |     raise exc\n",
      "  |   File \"/home/angelresende/.local/share/virtualenvs/modelo_colesterol-vnFVt-qo/lib/python3.10/site-packages/starlette/_exception_handler.py\", line 53, in wrapped_app\n",
      "  |     await app(scope, receive, sender)\n",
      "  |   File \"/home/angelresende/.local/share/virtualenvs/modelo_colesterol-vnFVt-qo/lib/python3.10/site-packages/starlette/routing.py\", line 756, in __call__\n",
      "  |     await self.middleware_stack(scope, receive, send)\n",
      "  |   File \"/home/angelresende/.local/share/virtualenvs/modelo_colesterol-vnFVt-qo/lib/python3.10/site-packages/starlette/routing.py\", line 776, in app\n",
      "  |     await route.handle(scope, receive, send)\n",
      "  |   File \"/home/angelresende/.local/share/virtualenvs/modelo_colesterol-vnFVt-qo/lib/python3.10/site-packages/starlette/routing.py\", line 297, in handle\n",
      "  |     await self.app(scope, receive, send)\n",
      "  |   File \"/home/angelresende/.local/share/virtualenvs/modelo_colesterol-vnFVt-qo/lib/python3.10/site-packages/starlette/routing.py\", line 77, in app\n",
      "  |     await wrap_app_handling_exceptions(app, request)(scope, receive, send)\n",
      "  |   File \"/home/angelresende/.local/share/virtualenvs/modelo_colesterol-vnFVt-qo/lib/python3.10/site-packages/starlette/_exception_handler.py\", line 64, in wrapped_app\n",
      "  |     raise exc\n",
      "  |   File \"/home/angelresende/.local/share/virtualenvs/modelo_colesterol-vnFVt-qo/lib/python3.10/site-packages/starlette/_exception_handler.py\", line 53, in wrapped_app\n",
      "  |     await app(scope, receive, sender)\n",
      "  |   File \"/home/angelresende/.local/share/virtualenvs/modelo_colesterol-vnFVt-qo/lib/python3.10/site-packages/starlette/routing.py\", line 75, in app\n",
      "  |     await response(scope, receive, send)\n",
      "  |   File \"/home/angelresende/.local/share/virtualenvs/modelo_colesterol-vnFVt-qo/lib/python3.10/site-packages/starlette/responses.py\", line 258, in __call__\n",
      "  |     async with anyio.create_task_group() as task_group:\n",
      "  |   File \"/home/angelresende/.local/share/virtualenvs/modelo_colesterol-vnFVt-qo/lib/python3.10/site-packages/anyio/_backends/_asyncio.py\", line 678, in __aexit__\n",
      "  |     raise BaseExceptionGroup(\n",
      "  | exceptiongroup.ExceptionGroup: unhandled errors in a TaskGroup (1 sub-exception)\n",
      "  +-+---------------- 1 ----------------\n",
      "    | Traceback (most recent call last):\n",
      "    |   File \"/home/angelresende/.local/share/virtualenvs/modelo_colesterol-vnFVt-qo/lib/python3.10/site-packages/starlette/responses.py\", line 261, in wrap\n",
      "    |     await func()\n",
      "    |   File \"/home/angelresende/.local/share/virtualenvs/modelo_colesterol-vnFVt-qo/lib/python3.10/site-packages/starlette/responses.py\", line 250, in stream_response\n",
      "    |     async for chunk in self.body_iterator:\n",
      "    |   File \"/home/angelresende/.local/share/virtualenvs/modelo_colesterol-vnFVt-qo/lib/python3.10/site-packages/gradio/routes.py\", line 896, in sse_stream\n",
      "    |     raise e\n",
      "    |   File \"/home/angelresende/.local/share/virtualenvs/modelo_colesterol-vnFVt-qo/lib/python3.10/site-packages/gradio/routes.py\", line 860, in sse_stream\n",
      "    |     response = process_msg(message)\n",
      "    |   File \"/home/angelresende/.local/share/virtualenvs/modelo_colesterol-vnFVt-qo/lib/python3.10/site-packages/gradio/routes.py\", line 808, in process_msg\n",
      "    |     return f\"data: {orjson.dumps(message.model_dump()).decode('utf-8')}\\n\\n\"\n",
      "    | TypeError: Type is not JSON serializable: numpy.ndarray\n",
      "    +------------------------------------\n"
     ]
    }
   ],
   "source": [
    "demo.launch()"
   ]
  }
 ],
 "metadata": {
  "kernelspec": {
   "display_name": "modelo_colesterol-vnFVt-qo",
   "language": "python",
   "name": "python3"
  },
  "language_info": {
   "codemirror_mode": {
    "name": "ipython",
    "version": 3
   },
   "file_extension": ".py",
   "mimetype": "text/x-python",
   "name": "python",
   "nbconvert_exporter": "python",
   "pygments_lexer": "ipython3",
   "version": "3.10.12"
  }
 },
 "nbformat": 4,
 "nbformat_minor": 2
}
